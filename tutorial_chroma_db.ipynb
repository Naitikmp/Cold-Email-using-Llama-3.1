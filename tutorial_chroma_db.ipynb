{
 "cells": [
  {
   "cell_type": "code",
   "execution_count": 27,
   "id": "ad18eb87-c27b-45b9-9ea9-b767fc25d028",
   "metadata": {},
   "outputs": [],
   "source": [
    "import chromadb\n",
    "client =chromadb.Client()\n",
    "collection = client.create_collection(name=\"mycollection\")"
   ]
  },
  {
   "cell_type": "code",
   "execution_count": 29,
   "id": "20013491-7792-4cac-b346-c844574aa707",
   "metadata": {},
   "outputs": [],
   "source": [
    "collection.add(\n",
    "    documents=[\n",
    "        'Ahmedabad is a very big city',\n",
    "        'how big then other cities will be',\n",
    "        'the mumbai is a very preety city'\n",
    "    ],\n",
    "    ids = ['id1','id2','id3']\n",
    ")"
   ]
  },
  {
   "cell_type": "code",
   "execution_count": 30,
   "id": "46b777cb-6f01-4077-b1e0-89e62e656c21",
   "metadata": {},
   "outputs": [
    {
     "data": {
      "text/plain": [
       "{'ids': ['id1', 'id2', 'id3'],\n",
       " 'embeddings': None,\n",
       " 'metadatas': [None, None, None],\n",
       " 'documents': ['Ahmedabad is a very big city',\n",
       "  'how big then other cities will be',\n",
       "  'the mumbai is a very preety city'],\n",
       " 'uris': None,\n",
       " 'data': None,\n",
       " 'included': ['metadatas', 'documents']}"
      ]
     },
     "execution_count": 30,
     "metadata": {},
     "output_type": "execute_result"
    }
   ],
   "source": [
    "all_docs = collection.get()\n",
    "all_docs"
   ]
  },
  {
   "cell_type": "code",
   "execution_count": 31,
   "id": "46e51851-a56f-4025-b93d-558a3e0e21c9",
   "metadata": {},
   "outputs": [
    {
     "data": {
      "text/plain": [
       "{'ids': ['id1'],\n",
       " 'embeddings': None,\n",
       " 'metadatas': [None],\n",
       " 'documents': ['Ahmedabad is a very big city'],\n",
       " 'uris': None,\n",
       " 'data': None,\n",
       " 'included': ['metadatas', 'documents']}"
      ]
     },
     "execution_count": 31,
     "metadata": {},
     "output_type": "execute_result"
    }
   ],
   "source": [
    "document = collection.get(ids='id1')\n",
    "document"
   ]
  },
  {
   "cell_type": "code",
   "execution_count": 39,
   "id": "4c1a3317-6620-4bd5-8d2c-c8bda908bf91",
   "metadata": {},
   "outputs": [
    {
     "data": {
      "text/plain": [
       "{'ids': [['id3', 'id1', 'id2']],\n",
       " 'distances': [[1.657867431640625, 1.7433018684387207, 1.8321576118469238]],\n",
       " 'metadatas': [[None, None, None]],\n",
       " 'embeddings': None,\n",
       " 'documents': [['the mumbai is a very preety city',\n",
       "   'Ahmedabad is a very big city',\n",
       "   'how big then other cities will be']],\n",
       " 'uris': None,\n",
       " 'data': None,\n",
       " 'included': ['metadatas', 'documents', 'distances']}"
      ]
     },
     "execution_count": 39,
     "metadata": {},
     "output_type": "execute_result"
    }
   ],
   "source": [
    "results = collection.query(\n",
    "    query_texts=['Query is about thane'],\n",
    "    n_results = 3\n",
    ")\n",
    "results"
   ]
  },
  {
   "cell_type": "code",
   "execution_count": 40,
   "id": "d5566e77-be47-4ee3-8e3e-6a798f6650d4",
   "metadata": {},
   "outputs": [
    {
     "name": "stderr",
     "output_type": "stream",
     "text": [
      "Add of existing embedding ID: id1\n",
      "Add of existing embedding ID: id2\n",
      "Add of existing embedding ID: id3\n",
      "Insert of existing embedding ID: id1\n",
      "Insert of existing embedding ID: id2\n",
      "Insert of existing embedding ID: id3\n"
     ]
    }
   ],
   "source": [
    "collection.add(\n",
    "    documents=[\n",
    "        'Ahmedabad is a very big city',\n",
    "        'how big then other cities will be',\n",
    "        'the mumbai is a very preety city'\n",
    "    ],\n",
    "    ids = ['id1','id2','id3'],\n",
    "    metadatas=[\n",
    "        {\"url\":\"https://en.wikipedia.org/wiki/Ahmedabad\"},\n",
    "        {\"url\":\"https://simplemaps.com/data/world-cities\"},\n",
    "        {\"url\":\"https://en.wikipedia.org/wiki/Mumbai\"}\n",
    "    ]\n",
    ")"
   ]
  },
  {
   "cell_type": "code",
   "execution_count": null,
   "id": "ae99285c-ba48-44af-b650-2c87e8eaa715",
   "metadata": {},
   "outputs": [],
   "source": []
  }
 ],
 "metadata": {
  "kernelspec": {
   "display_name": "Python 3 (ipykernel)",
   "language": "python",
   "name": "python3"
  },
  "language_info": {
   "codemirror_mode": {
    "name": "ipython",
    "version": 3
   },
   "file_extension": ".py",
   "mimetype": "text/x-python",
   "name": "python",
   "nbconvert_exporter": "python",
   "pygments_lexer": "ipython3",
   "version": "3.10.5"
  }
 },
 "nbformat": 4,
 "nbformat_minor": 5
}
